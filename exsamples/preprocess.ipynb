{
 "cells": [
  {
   "cell_type": "code",
   "execution_count": 1,
   "metadata": {},
   "outputs": [],
   "source": [
    "text = 'バーチャルYouTuber“キズナアイ”＆“ピーナッツくん”が，「フードファンタジー」をテーマにした動画を公開'"
   ]
  },
  {
   "cell_type": "markdown",
   "metadata": {},
   "source": [
    "preprocess"
   ]
  },
  {
   "cell_type": "code",
   "execution_count": 2,
   "metadata": {},
   "outputs": [
    {
     "data": {
      "text/plain": [
       "'バーチャルYouTuberキズナアイピーナッツくんがフードファンタジーをテーマにした動画を公開'"
      ]
     },
     "execution_count": 2,
     "metadata": {},
     "output_type": "execute_result"
    }
   ],
   "source": [
    "from utils.preprocess import clean\n",
    "\n",
    "clean.clean_text(text, _normalize=False, upper=False, lower=False, drop_kigou=u'[”＆“「」，]')"
   ]
  },
  {
   "cell_type": "markdown",
   "metadata": {},
   "source": [
    "tokenize"
   ]
  },
  {
   "cell_type": "code",
   "execution_count": 3,
   "metadata": {},
   "outputs": [
    {
     "name": "stdout",
     "output_type": "stream",
     "text": [
      "['バーチャル', 'YouTuber', 'キズナアイ', 'ピーナッツ', 'くん', 'フード', 'ファンタジー', 'テーマ', 'する', '動画', '公開']\n",
      "['バーチャルYouTuber', 'キズナアイ', 'ピーナッツ', 'くん', 'フード', 'ファンタジー', 'テーマ', 'する', '動画', '公開']\n"
     ]
    }
   ],
   "source": [
    "from utils.preprocess import tokenize\n",
    "\n",
    "list_white_poc = ['動詞', '名詞']\n",
    "list_black_poc = None\n",
    "stop_words = ['']\n",
    "\n",
    "## デフォルト辞書（ipadic）\n",
    "path_dict = None\n",
    "tkn = tokenize.Tokenize(list_white_poc=list_white_poc, list_black_poc=list_black_poc, stop_words=stop_words, path_dict=path_dict)\n",
    "print(tkn.tokenize_text(text))\n",
    "\n",
    "## neologd\n",
    "path_dict = '/usr/lib/mecab/dic/mecab-ipadic-neologd/'\n",
    "tkn = tokenize.Tokenize(list_white_poc=list_white_poc, list_black_poc=list_black_poc, stop_words=stop_words, path_dict=path_dict)\n",
    "print(tkn.tokenize_text(text))"
   ]
  }
 ],
 "metadata": {
  "kernelspec": {
   "display_name": "Python 3",
   "language": "python",
   "name": "python3"
  },
  "language_info": {
   "codemirror_mode": {
    "name": "ipython",
    "version": 3
   },
   "file_extension": ".py",
   "mimetype": "text/x-python",
   "name": "python",
   "nbconvert_exporter": "python",
   "pygments_lexer": "ipython3",
   "version": "3.6.4"
  }
 },
 "nbformat": 4,
 "nbformat_minor": 2
}
