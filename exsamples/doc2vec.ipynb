{
 "cells": [
  {
   "cell_type": "markdown",
   "metadata": {},
   "source": [
    "サンプルデータは下記Wikipediaより  \n",
    "https://ja.wikipedia.org/wiki/YouTuber "
   ]
  },
  {
   "cell_type": "code",
   "execution_count": 1,
   "metadata": {},
   "outputs": [],
   "source": [
    "import sys\n",
    "sys.path.append('/home/rio_kurihara/MyRepositories/NLP/')\n",
    "\n",
    "save_path = './test_doc2vec_model.bin'\n",
    "\n",
    "list_docs = [\n",
    "    '2007年5月頃に、YouTubeが特に閲覧数の多いユーザーに「パートナー」（YouTubeパートナープログラム）となるよう勧誘したことが始まりとされる',\n",
    "    'プログラムは当初、商業コンテンツ供給者だけに勧められたものだった）[要出典]。',\n",
    "    '後にビデオ画面の隣側に広告掲載するのを条件にユーザーが利益を得ることが可能になり、2011年4月にはパートナープログラムが一般ユーザーにも開放。',\n",
    "    'より多くのユーザが広告収入を得られるようになった。',\n",
    "    'その後は、YouTubeで収益を得て生活する人物も現れた[7]。',\n",
    "    'なお、2017年4月以降は総再生回数が10,000回以上ではないとパートナープログラムへの参加が認められなくなったが、2018年2月からはさらに過去12か月間の総再生時間が4,000時間以上、かつチャンネル登録者数が1,000人以上とより厳しい条件に引き上げられた',\n",
    "    '加えてコミュニティのストライキ、スパムなどの監視が強化され、ポリシーに準拠していることの評価が厳格化されるようになった。',\n",
    "    'マスメディアの露出がほとんどないにもかかわらず、年収が数億〜十数億円にも達する者・独自に握手会等のイベントを開く者もいるが、ごく少数である。'\n",
    "]\n",
    "indices = [i for i, _ in enumerate(range(0, len(list_docs)))]\n"
   ]
  },
  {
   "cell_type": "markdown",
   "metadata": {},
   "source": [
    "model build"
   ]
  },
  {
   "cell_type": "code",
   "execution_count": 2,
   "metadata": {},
   "outputs": [],
   "source": [
    "from utils.preprocess import tokenize\n",
    "path_dict = '/usr/lib/mecab/dic/mecab-ipadic-neologd/'\n",
    "tkn = tokenize.Tokenize(path_dict=path_dict)\n",
    "list_split = [tkn.tokenize_text(x) for x in list_docs]"
   ]
  },
  {
   "cell_type": "code",
   "execution_count": 3,
   "metadata": {},
   "outputs": [
    {
     "name": "stderr",
     "output_type": "stream",
     "text": [
      "/home/rio_kurihara/.pyenv/versions/anaconda3-5.1.0/lib/python3.6/site-packages/gensim/models/doc2vec.py:362: UserWarning: The parameter `iter` is deprecated, will be removed in 4.0.0, use `epochs` instead.\n",
      "  warnings.warn(\"The parameter `iter` is deprecated, will be removed in 4.0.0, use `epochs` instead.\")\n",
      "/home/rio_kurihara/.pyenv/versions/anaconda3-5.1.0/lib/python3.6/site-packages/gensim/models/doc2vec.py:366: UserWarning: The parameter `size` is deprecated, will be removed in 4.0.0, use `vector_size` instead.\n",
      "  warnings.warn(\"The parameter `size` is deprecated, will be removed in 4.0.0, use `vector_size` instead.\")\n"
     ]
    }
   ],
   "source": [
    "from models import doc2vec\n",
    "from gensim.models.doc2vec import Doc2Vec\n",
    "\n",
    "d2v = doc2vec.Doc2VecModelCreater(list_split, indices)\n",
    "d2v_model = d2v.create_doc2vec_model()\n",
    "d2v_model.save(save_path)\n",
    "model = Doc2Vec.load(save_path)"
   ]
  },
  {
   "cell_type": "code",
   "execution_count": 5,
   "metadata": {},
   "outputs": [
    {
     "name": "stdout",
     "output_type": "stream",
     "text": [
      "['2007年', '5月', '頃', 'に', '、', 'YouTube', 'が', '特に', '閲覧', '数', 'の', '多い', 'ユーザー', 'に', '「', 'パートナー', '」', '（', 'YouTube', 'パートナー', 'プログラム', '）', 'と', 'なる', 'よう', '勧誘', 'する', 'た', 'こと', 'が', '始まり', 'と', 'する', 'れる'] ['プログラム', 'は', '当初', '、', '商業', 'コンテンツ', '供給', '者', 'だけ', 'に', '勧める', 'られる', 'た', 'もの', 'だ', 'た', '）[', '要出典', ']。']\n"
     ]
    },
    {
     "data": {
      "text/plain": [
       "-0.18454873920827936"
      ]
     },
     "execution_count": 5,
     "metadata": {},
     "output_type": "execute_result"
    }
   ],
   "source": [
    "doc_1 = list_split[0]\n",
    "doc_2 = list_split[1]\n",
    "sim_value = model.docvecs.similarity_unseen_docs(model, doc_1, doc_2, alpha=1, min_alpha=0.0001, steps=5)\n",
    "sim_value"
   ]
  }
 ],
 "metadata": {
  "kernelspec": {
   "display_name": "Python 3",
   "language": "python",
   "name": "python3"
  },
  "language_info": {
   "codemirror_mode": {
    "name": "ipython",
    "version": 3
   },
   "file_extension": ".py",
   "mimetype": "text/x-python",
   "name": "python",
   "nbconvert_exporter": "python",
   "pygments_lexer": "ipython3",
   "version": "3.6.4"
  }
 },
 "nbformat": 4,
 "nbformat_minor": 2
}
